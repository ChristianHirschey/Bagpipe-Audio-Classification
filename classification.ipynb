{
 "cells": [
  {
   "cell_type": "code",
   "execution_count": 1,
   "id": "865a281d",
   "metadata": {
    "_cell_guid": "b1076dfc-b9ad-4769-8c92-a6c4dae69d19",
    "_uuid": "8f2839f25d086af736a60e9eeb907d3b93b6e0e5",
    "execution": {
     "iopub.execute_input": "2024-07-10T14:19:35.273590Z",
     "iopub.status.busy": "2024-07-10T14:19:35.272793Z",
     "iopub.status.idle": "2024-07-10T14:19:35.355610Z",
     "shell.execute_reply": "2024-07-10T14:19:35.354617Z"
    },
    "papermill": {
     "duration": 0.093973,
     "end_time": "2024-07-10T14:19:35.357998",
     "exception": false,
     "start_time": "2024-07-10T14:19:35.264025",
     "status": "completed"
    },
    "tags": []
   },
   "outputs": [],
   "source": [
    "import os\n",
    "for dirname, _, filenames in os.walk('/kaggle/input'):\n",
    "    for filename in filenames:\n",
    "        os.path.join(dirname, filename)"
   ]
  },
  {
   "cell_type": "markdown",
   "id": "05be8dc5",
   "metadata": {
    "papermill": {
     "duration": 0.00711,
     "end_time": "2024-07-10T14:19:35.372524",
     "exception": false,
     "start_time": "2024-07-10T14:19:35.365414",
     "status": "completed"
    },
    "tags": []
   },
   "source": [
    "## Imports"
   ]
  },
  {
   "cell_type": "code",
   "execution_count": 2,
   "id": "8eddeb38",
   "metadata": {
    "execution": {
     "iopub.execute_input": "2024-07-10T14:19:35.387899Z",
     "iopub.status.busy": "2024-07-10T14:19:35.387602Z",
     "iopub.status.idle": "2024-07-10T14:19:49.517531Z",
     "shell.execute_reply": "2024-07-10T14:19:49.516314Z"
    },
    "papermill": {
     "duration": 14.140151,
     "end_time": "2024-07-10T14:19:49.519812",
     "exception": false,
     "start_time": "2024-07-10T14:19:35.379661",
     "status": "completed"
    },
    "tags": []
   },
   "source": [
    "pip install pytube pydub"
   ]
  },
  {
   "cell_type": "code",
   "execution_count": 3,
   "id": "26102549",
   "metadata": {
    "execution": {
     "iopub.execute_input": "2024-07-10T14:19:49.537121Z",
     "iopub.status.busy": "2024-07-10T14:19:49.536359Z",
     "iopub.status.idle": "2024-07-10T14:20:02.092149Z",
     "shell.execute_reply": "2024-07-10T14:20:02.091368Z"
    },
    "papermill": {
     "duration": 12.566739,
     "end_time": "2024-07-10T14:20:02.094407",
     "exception": false,
     "start_time": "2024-07-10T14:19:49.527668",
     "status": "completed"
    },
    "tags": []
   },
   "source": [
    "from matplotlib import pyplot as plt \n",
    "import tensorflow as tf \n",
    "import tensorflow_io as tfio\n",
    "from pytube import Playlist, YouTube\n",
    "from pydub import AudioSegment\n",
    "import numpy as np\n",
    "import librosa\n",
    "\n",
    "seed = 42\n",
    "np.random.seed(seed)\n",
    "tf.random.set_seed(seed)"
   ]
  },
  {
   "cell_type": "markdown",
   "id": "20f4e980",
   "metadata": {
    "papermill": {
     "duration": 0.007048,
     "end_time": "2024-07-10T14:20:02.109478",
     "exception": false,
     "start_time": "2024-07-10T14:20:02.102430",
     "status": "completed"
    },
    "tags": []
   },
   "source": [
    "## Build Audio Download Function"
   ]
  },
  {
   "cell_type": "code",
   "execution_count": 4,
   "id": "37b993fd",
   "metadata": {
    "execution": {
     "iopub.execute_input": "2024-07-10T14:20:02.125599Z",
     "iopub.status.busy": "2024-07-10T14:20:02.125066Z",
     "iopub.status.idle": "2024-07-10T14:20:02.132887Z",
     "shell.execute_reply": "2024-07-10T14:20:02.132033Z"
    },
    "papermill": {
     "duration": 0.018189,
     "end_time": "2024-07-10T14:20:02.134845",
     "exception": false,
     "start_time": "2024-07-10T14:20:02.116656",
     "status": "completed"
    },
    "tags": []
   },
   "outputs": [
    {
     "data": {
      "text/plain": [
       "\"\\ntwofour = Playlist('https://www.youtube.com/watch?v=Q6JDOyDqOFs&list=PLel4r-3d96fa-eKRp7CIW6I6xWFW5-3Dx&pp=iAQB')\\n\\ntwofour.videos[1].streams.filter(only_audio=True) # get itags for audio\\n\\nfor video in twofour.videos[0:100]:\\n    audio = video.streams.get_by_itag(140) # 140 is higher quality audio itag\\n    audio.download(output_path='2-4 March', filename_prefix='2-4 March ')\\n    \\nstrathspey = Playlist('https://www.youtube.com/watch?v=EvX_Tkv-j-c&list=PLel4r-3d96fZ9w3RAhwhel5ud8YWk4Jre&pp=iAQB')\\n\\nfor video in strathspey.videos[0:100]:\\n    audio = video.streams.get_by_itag(140) # 140 is higher quality audio itag\\n    audio.download(output_path='Strathspey', filename_prefix='Strathspey ')\\n    \\nreel = Playlist('https://www.youtube.com/watch?v=TsM7C4ZYmwY&list=PLel4r-3d96fbxHwtJQuZoOkPWve7J02UJ&pp=iAQB')\\n\\nfor video in reel.videos[0:150]:\\n    audio = video.streams.get_by_itag(140) # 140 is higher quality audio itag\\n    audio.download(output_path='Reel', filename_prefix='Reel ')\\n\""
      ]
     },
     "execution_count": 4,
     "metadata": {},
     "output_type": "execute_result"
    }
   ],
   "source": [
    "\"\"\"\n",
    "twofour = Playlist('https://www.youtube.com/watch?v=Q6JDOyDqOFs&list=PLel4r-3d96fa-eKRp7CIW6I6xWFW5-3Dx&pp=iAQB')\n",
    "\n",
    "twofour.videos[1].streams.filter(only_audio=True) # get itags for audio\n",
    "\n",
    "for video in twofour.videos[0:100]:\n",
    "    audio = video.streams.get_by_itag(140) # 140 is higher quality audio itag\n",
    "    audio.download(output_path='2-4 March', filename_prefix='2-4 March ')\n",
    "    \n",
    "strathspey = Playlist('https://www.youtube.com/watch?v=EvX_Tkv-j-c&list=PLel4r-3d96fZ9w3RAhwhel5ud8YWk4Jre&pp=iAQB')\n",
    "\n",
    "for video in strathspey.videos[0:100]:\n",
    "    audio = video.streams.get_by_itag(140) # 140 is higher quality audio itag\n",
    "    audio.download(output_path='Strathspey', filename_prefix='Strathspey ')\n",
    "    \n",
    "reel = Playlist('https://www.youtube.com/watch?v=TsM7C4ZYmwY&list=PLel4r-3d96fbxHwtJQuZoOkPWve7J02UJ&pp=iAQB')\n",
    "\n",
    "for video in reel.videos[0:150]:\n",
    "    audio = video.streams.get_by_itag(140) # 140 is higher quality audio itag\n",
    "    audio.download(output_path='Reel', filename_prefix='Reel ')\n",
    "\"\"\""
   ]
  },
  {
   "cell_type": "markdown",
   "id": "ef5f54b8",
   "metadata": {
    "papermill": {
     "duration": 0.007191,
     "end_time": "2024-07-10T14:20:02.149495",
     "exception": false,
     "start_time": "2024-07-10T14:20:02.142304",
     "status": "completed"
    },
    "tags": []
   },
   "source": [
    "## Build Data Loading Function"
   ]
  },
  {
   "cell_type": "code",
   "execution_count": 5,
   "id": "bbc26c4e",
   "metadata": {
    "execution": {
     "iopub.execute_input": "2024-07-10T14:20:02.165201Z",
     "iopub.status.busy": "2024-07-10T14:20:02.164927Z",
     "iopub.status.idle": "2024-07-10T14:20:02.168821Z",
     "shell.execute_reply": "2024-07-10T14:20:02.167995Z"
    },
    "papermill": {
     "duration": 0.01378,
     "end_time": "2024-07-10T14:20:02.170762",
     "exception": false,
     "start_time": "2024-07-10T14:20:02.156982",
     "status": "completed"
    },
    "tags": []
   },
   "outputs": [],
   "source": [
    "m = '/kaggle/input/march-strathspey-and-reel-files/2-4 March Trimmed/2-4 March 24th Guards Brigade at Anzio.mp3'\n",
    "s = '/kaggle/input/march-strathspey-and-reel-files/Strathspey Trimmed/Strathspey 3 Strathspeys in the Hoose (Piping 100 Day 48).mp3'\n",
    "r = '/kaggle/input/march-strathspey-and-reel-files/Reel Trimmed/Reel A Cup of Tea.mp3'"
   ]
  },
  {
   "cell_type": "markdown",
   "id": "95f42cce",
   "metadata": {
    "papermill": {
     "duration": 0.00812,
     "end_time": "2024-07-10T14:20:02.186233",
     "exception": false,
     "start_time": "2024-07-10T14:20:02.178113",
     "status": "completed"
    },
    "tags": []
   },
   "source": [
    "## Define Audio Processing Functions"
   ]
  },
  {
   "cell_type": "code",
   "execution_count": 6,
   "id": "73d351a2",
   "metadata": {
    "execution": {
     "iopub.execute_input": "2024-07-10T14:20:02.202435Z",
     "iopub.status.busy": "2024-07-10T14:20:02.202126Z",
     "iopub.status.idle": "2024-07-10T14:20:02.209392Z",
     "shell.execute_reply": "2024-07-10T14:20:02.208560Z"
    },
    "papermill": {
     "duration": 0.017627,
     "end_time": "2024-07-10T14:20:02.211261",
     "exception": false,
     "start_time": "2024-07-10T14:20:02.193634",
     "status": "completed"
    },
    "tags": []
   },
   "outputs": [],
   "source": [
    "def normalize_audio(audio):\n",
    "    max_val = np.max(np.abs(audio))\n",
    "    audio_normalized = audio / max_val\n",
    "    return audio_normalized\n",
    "\n",
    "def load_wav_16k_mono_from_mp3(filename):\n",
    "    # Convert MP3 to WAV\n",
    "    input_file = filename\n",
    "    output_file = \"result.wav\"\n",
    "    sound = AudioSegment.from_mp3(input_file)\n",
    "    sound.export(output_file, format=\"wav\")\n",
    "\n",
    "    # Read the WAV file using TensorFlow\n",
    "    file_contents = tf.io.read_file(output_file)\n",
    "    wav, sample_rate = tf.audio.decode_wav(file_contents, desired_channels=1)\n",
    "    wav = tf.squeeze(wav, axis=-1)\n",
    "    sample_rate = tf.cast(sample_rate, dtype=tf.int64)\n",
    "\n",
    "    # Resample to 16 kHz\n",
    "    wav = tfio.audio.resample(wav, rate_in=sample_rate, rate_out=16000)\n",
    "    wav = wav.numpy()\n",
    "\n",
    "    # Normalize audio\n",
    "    wav = normalize_audio(wav)\n",
    "\n",
    "    # Extract MFCCs\n",
    "    mfccs = librosa.feature.mfcc(y=wav, sr=16000, n_mfcc=13)\n",
    "\n",
    "    return mfccs"
   ]
  },
  {
   "cell_type": "markdown",
   "id": "6dbfa35c",
   "metadata": {
    "papermill": {
     "duration": 0.007121,
     "end_time": "2024-07-10T14:20:02.225667",
     "exception": false,
     "start_time": "2024-07-10T14:20:02.218546",
     "status": "completed"
    },
    "tags": []
   },
   "source": [
    "## Plot MFCCs"
   ]
  },
  {
   "cell_type": "code",
   "execution_count": 7,
   "id": "8597c4cd",
   "metadata": {
    "execution": {
     "iopub.execute_input": "2024-07-10T14:20:02.241286Z",
     "iopub.status.busy": "2024-07-10T14:20:02.241031Z",
     "iopub.status.idle": "2024-07-10T14:20:25.176986Z",
     "shell.execute_reply": "2024-07-10T14:20:25.175591Z"
    },
    "papermill": {
     "duration": 22.947903,
     "end_time": "2024-07-10T14:20:25.180865",
     "exception": false,
     "start_time": "2024-07-10T14:20:02.232962",
     "status": "completed"
    },
    "tags": []
   },
   "outputs": [],
   "source": [
    "mwave = load_wav_16k_mono_from_mp3(m)\n",
    "swave = load_wav_16k_mono_from_mp3(s)\n",
    "rwave = load_wav_16k_mono_from_mp3(r)"
   ]
  },
  {
   "cell_type": "code",
   "execution_count": 8,
   "id": "59bb2425",
   "metadata": {
    "execution": {
     "iopub.execute_input": "2024-07-10T14:20:25.214621Z",
     "iopub.status.busy": "2024-07-10T14:20:25.213506Z",
     "iopub.status.idle": "2024-07-10T14:20:25.606460Z",
     "shell.execute_reply": "2024-07-10T14:20:25.605567Z"
    },
    "papermill": {
     "duration": 0.41184,
     "end_time": "2024-07-10T14:20:25.608735",
     "exception": false,
     "start_time": "2024-07-10T14:20:25.196895",
     "status": "completed"
    },
    "tags": []
   },
   "outputs": [
    {
     "data": {
      "image/png": "[encoded data removed]",
      "text/plain": [
       "<Figure size 1000x500 with 2 Axes>"
      ]
     },
     "metadata": {},
     "output_type": "display_data"
    }
   ],
   "source": [
    "plt.figure(figsize=(10, 5))\n",
    "librosa.display.specshow(mwave, x_axis='time')\n",
    "plt.colorbar()\n",
    "plt.title('MFCC')\n",
    "plt.xlabel('Time')\n",
    "plt.ylabel('MFCC Coefficients')\n",
    "plt.show()"
   ]
  },
  {
   "cell_type": "markdown",
   "id": "465578d7",
   "metadata": {
    "papermill": {
     "duration": 0.008,
     "end_time": "2024-07-10T14:20:25.625199",
     "exception": false,
     "start_time": "2024-07-10T14:20:25.617199",
     "status": "completed"
    },
    "tags": []
   },
   "source": [
    "## Create Tensorflow Datasets"
   ]
  },
  {
   "cell_type": "code",
   "execution_count": 9,
   "id": "e4c5d5e1",
   "metadata": {
    "execution": {
     "iopub.execute_input": "2024-07-10T14:20:25.642580Z",
     "iopub.status.busy": "2024-07-10T14:20:25.642234Z",
     "iopub.status.idle": "2024-07-10T14:20:25.646422Z",
     "shell.execute_reply": "2024-07-10T14:20:25.645546Z"
    },
    "papermill": {
     "duration": 0.01496,
     "end_time": "2024-07-10T14:20:25.648140",
     "exception": false,
     "start_time": "2024-07-10T14:20:25.633180",
     "status": "completed"
    },
    "tags": []
   },
   "outputs": [],
   "source": [
    "MARCH = '/kaggle/input/march-strathspey-and-reel-files/2-4 March Trimmed'\n",
    "STRATHSPEY = '/kaggle/input/march-strathspey-and-reel-files/Strathspey Trimmed'\n",
    "REEL = '/kaggle/input/march-strathspey-and-reel-files/Reel Trimmed'"
   ]
  },
  {
   "cell_type": "code",
   "execution_count": 10,
   "id": "2c7327f2",
   "metadata": {
    "execution": {
     "iopub.execute_input": "2024-07-10T14:20:25.665021Z",
     "iopub.status.busy": "2024-07-10T14:20:25.664754Z",
     "iopub.status.idle": "2024-07-10T14:20:27.874457Z",
     "shell.execute_reply": "2024-07-10T14:20:27.873643Z"
    },
    "papermill": {
     "duration": 2.220712,
     "end_time": "2024-07-10T14:20:27.876681",
     "exception": false,
     "start_time": "2024-07-10T14:20:25.655969",
     "status": "completed"
    },
    "tags": []
   },
   "outputs": [],
   "source": [
    "march = tf.data.Dataset.list_files(MARCH+'/*.mp3')\n",
    "strath = tf.data.Dataset.list_files(STRATHSPEY+'/*.mp3')\n",
    "reel = tf.data.Dataset.list_files(REEL+'/*.mp3')"
   ]
  },
  {
   "cell_type": "markdown",
   "id": "8dc24ec6",
   "metadata": {
    "papermill": {
     "duration": 0.008057,
     "end_time": "2024-07-10T14:20:27.893106",
     "exception": false,
     "start_time": "2024-07-10T14:20:27.885049",
     "status": "completed"
    },
    "tags": []
   },
   "source": [
    "## Process All Files"
   ]
  },
  {
   "cell_type": "code",
   "execution_count": 11,
   "id": "d527220f",
   "metadata": {
    "execution": {
     "iopub.execute_input": "2024-07-10T14:20:27.910501Z",
     "iopub.status.busy": "2024-07-10T14:20:27.910161Z",
     "iopub.status.idle": "2024-07-10T14:31:59.217802Z",
     "shell.execute_reply": "2024-07-10T14:31:59.216954Z"
    },
    "papermill": {
     "duration": 691.319042,
     "end_time": "2024-07-10T14:31:59.220142",
     "exception": false,
     "start_time": "2024-07-10T14:20:27.901100",
     "status": "completed"
    },
    "tags": []
   },
   "outputs": [],
   "source": [
    "march_data = []\n",
    "strath_data = []\n",
    "reel_data = []\n",
    "\n",
    "for file_path in march:\n",
    "    mfccs = load_wav_16k_mono_from_mp3(file_path.numpy().decode(\"utf-8\"))\n",
    "    march_data.append(mfccs)\n",
    "\n",
    "for file_path in strath:\n",
    "    mfccs = load_wav_16k_mono_from_mp3(file_path.numpy().decode(\"utf-8\"))\n",
    "    strath_data.append(mfccs)\n",
    "\n",
    "for file_path in reel:\n",
    "    mfccs = load_wav_16k_mono_from_mp3(file_path.numpy().decode(\"utf-8\"))\n",
    "    reel_data.append(mfccs)"
   ]
  },
  {
   "cell_type": "markdown",
   "id": "fcdcd2b7",
   "metadata": {
    "papermill": {
     "duration": 0.008386,
     "end_time": "2024-07-10T14:31:59.237082",
     "exception": false,
     "start_time": "2024-07-10T14:31:59.228696",
     "status": "completed"
    },
    "tags": []
   },
   "source": [
    "## Pad MFCCs"
   ]
  },
  {
   "cell_type": "code",
   "execution_count": 12,
   "id": "d58d4caa",
   "metadata": {
    "execution": {
     "iopub.execute_input": "2024-07-10T14:31:59.254772Z",
     "iopub.status.busy": "2024-07-10T14:31:59.254412Z",
     "iopub.status.idle": "2024-07-10T14:31:59.305875Z",
     "shell.execute_reply": "2024-07-10T14:31:59.305023Z"
    },
    "papermill": {
     "duration": 0.063307,
     "end_time": "2024-07-10T14:31:59.308293",
     "exception": false,
     "start_time": "2024-07-10T14:31:59.244986",
     "status": "completed"
    },
    "tags": []
   },
   "outputs": [],
   "source": [
    "# Find the maximum length of MFCCs across all data\n",
    "max_length = max(max(mfcc.shape[1] for mfcc in march_data),\n",
    "                 max(mfcc.shape[1] for mfcc in strath_data),\n",
    "                 max(mfcc.shape[1] for mfcc in reel_data))\n",
    "\n",
    "def pad_mfccs(mfcc, max_length):\n",
    "    # Pad the MFCCs with zeros to match the max_length\n",
    "    padded_mfcc = np.pad(mfcc, ((0, 0), (0, max_length - mfcc.shape[1])), 'constant')\n",
    "    return padded_mfcc\n",
    "\n",
    "# Pad all MFCCs to the maximum length\n",
    "march_data = [pad_mfccs(mfcc, max_length) for mfcc in march_data]\n",
    "strath_data = [pad_mfccs(mfcc, max_length) for mfcc in strath_data]\n",
    "reel_data = [pad_mfccs(mfcc, max_length) for mfcc in reel_data]\n",
    "\n",
    "# Verify all MFCCs are correctly padded\n",
    "for mfcc in march_data + strath_data + reel_data:\n",
    "    assert mfcc.shape[1] == max_length, \"Padding error: MFCC lengths are inconsistent\""
   ]
  },
  {
   "cell_type": "markdown",
   "id": "d95170f9",
   "metadata": {
    "papermill": {
     "duration": 0.008371,
     "end_time": "2024-07-10T14:31:59.325397",
     "exception": false,
     "start_time": "2024-07-10T14:31:59.317026",
     "status": "completed"
    },
    "tags": []
   },
   "source": [
    "## Generate Tensorflow Datasets"
   ]
  },
  {
   "cell_type": "code",
   "execution_count": 13,
   "id": "e2eb7fc0",
   "metadata": {
    "execution": {
     "iopub.execute_input": "2024-07-10T14:31:59.343864Z",
     "iopub.status.busy": "2024-07-10T14:31:59.343584Z",
     "iopub.status.idle": "2024-07-10T14:32:07.269444Z",
     "shell.execute_reply": "2024-07-10T14:32:07.268593Z"
    },
    "papermill": {
     "duration": 7.937569,
     "end_time": "2024-07-10T14:32:07.271738",
     "exception": false,
     "start_time": "2024-07-10T14:31:59.334169",
     "status": "completed"
    },
    "tags": []
   },
   "outputs": [],
   "source": [
    "def generator(data_list, indices):\n",
    "    for index in indices:\n",
    "        yield data_list[index]\n",
    "\n",
    "# Create TensorFlow datasets\n",
    "def create_dataset(data):\n",
    "    indices = list(range(len(data)))\n",
    "    dataset = tf.data.Dataset.from_generator(\n",
    "        generator, \n",
    "        args=(data, indices), \n",
    "        output_signature=tf.TensorSpec(shape=(13, max_length), dtype=tf.float32)\n",
    "    )\n",
    "    return dataset\n",
    "\n",
    "march_dataset = create_dataset(march_data)\n",
    "strath_dataset = create_dataset(strath_data)\n",
    "reel_dataset = create_dataset(reel_data)\n",
    "\n",
    "marches = tf.data.Dataset.zip((march_dataset, tf.data.Dataset.from_tensor_slices(tf.zeros(len(march), dtype=tf.int32))))  # Label march as 0\n",
    "strathspeys = tf.data.Dataset.zip((strath_dataset, tf.data.Dataset.from_tensor_slices(tf.ones(len(strath), dtype=tf.int32))))  # Label strathspey as 1\n",
    "reels = tf.data.Dataset.zip((reel_dataset, tf.data.Dataset.from_tensor_slices(tf.ones(len(reel), dtype=tf.int32) * 2)))  # Label reel as 2\n",
    "\n",
    "data = marches.concatenate(strathspeys).concatenate(reels)"
   ]
  },
  {
   "cell_type": "markdown",
   "id": "d1a141e7",
   "metadata": {
    "papermill": {
     "duration": 0.007652,
     "end_time": "2024-07-10T14:32:07.288272",
     "exception": false,
     "start_time": "2024-07-10T14:32:07.280620",
     "status": "completed"
    },
    "tags": []
   },
   "source": [
    "## Split and Label Datasets"
   ]
  },
  {
   "cell_type": "code",
   "execution_count": 14,
   "id": "dca11573",
   "metadata": {
    "execution": {
     "iopub.execute_input": "2024-07-10T14:32:07.305910Z",
     "iopub.status.busy": "2024-07-10T14:32:07.305612Z",
     "iopub.status.idle": "2024-07-10T14:32:15.800958Z",
     "shell.execute_reply": "2024-07-10T14:32:15.800180Z"
    },
    "papermill": {
     "duration": 8.506785,
     "end_time": "2024-07-10T14:32:15.803203",
     "exception": false,
     "start_time": "2024-07-10T14:32:07.296418",
     "status": "completed"
    },
    "tags": []
   },
   "outputs": [],
   "source": [
    "from sklearn.model_selection import train_test_split\n",
    "\n",
    "# Convert the concatenated dataset to a list of tuples\n",
    "all_data_padded = list(data)\n",
    "\n",
    "# Extract features and labels\n",
    "features = [item[0].numpy() for item in all_data_padded]\n",
    "labels = [item[1].numpy() for item in all_data_padded]\n",
    "\n",
    "# Split the dataset\n",
    "X_train, X_test, y_train, y_test = train_test_split(features, labels, train_size=0.65, stratify=labels, random_state=42)\n",
    "\n",
    "# Convert to TensorFlow datasets\n",
    "train_data = tf.data.Dataset.from_tensor_slices((X_train, y_train))\n",
    "test_data = tf.data.Dataset.from_tensor_slices((X_test, y_test))"
   ]
  },
  {
   "cell_type": "markdown",
   "id": "f936b53d",
   "metadata": {
    "papermill": {
     "duration": 0.007827,
     "end_time": "2024-07-10T14:32:15.819218",
     "exception": false,
     "start_time": "2024-07-10T14:32:15.811391",
     "status": "completed"
    },
    "tags": []
   },
   "source": [
    "## Train Model"
   ]
  },
  {
   "cell_type": "code",
   "execution_count": 15,
   "id": "a86da222",
   "metadata": {
    "execution": {
     "iopub.execute_input": "2024-07-10T14:32:15.836081Z",
     "iopub.status.busy": "2024-07-10T14:32:15.835820Z",
     "iopub.status.idle": "2024-07-10T14:32:56.776236Z",
     "shell.execute_reply": "2024-07-10T14:32:56.775382Z"
    },
    "papermill": {
     "duration": 40.95165,
     "end_time": "2024-07-10T14:32:56.778671",
     "exception": false,
     "start_time": "2024-07-10T14:32:15.827021",
     "status": "completed"
    },
    "tags": []
   },
   "outputs": [
    {
     "name": "stdout",
     "output_type": "stream",
     "text": [
      "Epoch 1/100\n",
      "\u001b[1m1/8\u001b[0m \u001b[32m━━\u001b[0m\u001b[37m━━━━━━━━━━━━━━━━━━\u001b[0m \u001b[1m1:51\u001b[0m 16s/step - accuracy: 0.2500 - loss: 3.3554"
     ]
    },
    {
     "name": "stderr",
     "output_type": "stream",
     "text": [
      "WARNING: All log messages before absl::InitializeLog() is called are written to STDERR\n",
      "I0000 00:00:1720621952.054430      82 device_compiler.h:186] Compiled cluster using XLA!  This line is logged at most once for the lifetime of the process.\n",
      "W0000 00:00:1720621952.074156      82 graph_launch.cc:671] Fallback to op-by-op mode because memset node breaks graph update\n"
     ]
    },
    {
     "name": "stdout",
     "output_type": "stream",
     "text": [
      "\u001b[1m8/8\u001b[0m \u001b[32m━━━━━━━━━━━━━━━━━━━━\u001b[0m\u001b[37m\u001b[0m \u001b[1m0s\u001b[0m 1s/step - accuracy: 0.3998 - loss: 3.1375  "
     ]
    },
    {
     "name": "stderr",
     "output_type": "stream",
     "text": [
      "W0000 00:00:1720621962.352027      80 graph_launch.cc:671] Fallback to op-by-op mode because memset node breaks graph update\n"
     ]
    },
    {
     "name": "stdout",
     "output_type": "stream",
     "text": [
      "\u001b[1m8/8\u001b[0m \u001b[32m━━━━━━━━━━━━━━━━━━━━\u001b[0m\u001b[37m\u001b[0m \u001b[1m29s\u001b[0m 2s/step - accuracy: 0.4062 - loss: 3.1263 - val_accuracy: 0.3333 - val_loss: 24.1616\n",
      "Epoch 2/100\n",
      "\u001b[1m8/8\u001b[0m \u001b[32m━━━━━━━━━━━━━━━━━━━━\u001b[0m\u001b[37m\u001b[0m \u001b[1m1s\u001b[0m 97ms/step - accuracy: 0.6284 - loss: 2.5926 - val_accuracy: 0.3968 - val_loss: 12.8966\n",
      "Epoch 3/100\n",
      "\u001b[1m8/8\u001b[0m \u001b[32m━━━━━━━━━━━━━━━━━━━━\u001b[0m\u001b[37m\u001b[0m \u001b[1m1s\u001b[0m 95ms/step - accuracy: 0.5937 - loss: 2.6327 - val_accuracy: 0.4127 - val_loss: 8.5322\n",
      "Epoch 4/100\n",
      "\u001b[1m8/8\u001b[0m \u001b[32m━━━━━━━━━━━━━━━━━━━━\u001b[0m\u001b[37m\u001b[0m \u001b[1m1s\u001b[0m 94ms/step - accuracy: 0.6701 - loss: 2.5310 - val_accuracy: 0.4683 - val_loss: 5.1758\n",
      "Epoch 5/100\n",
      "\u001b[1m8/8\u001b[0m \u001b[32m━━━━━━━━━━━━━━━━━━━━\u001b[0m\u001b[37m\u001b[0m \u001b[1m1s\u001b[0m 83ms/step - accuracy: 0.7405 - loss: 2.2646 - val_accuracy: 0.4603 - val_loss: 3.5798\n",
      "Epoch 6/100\n",
      "\u001b[1m8/8\u001b[0m \u001b[32m━━━━━━━━━━━━━━━━━━━━\u001b[0m\u001b[37m\u001b[0m \u001b[1m1s\u001b[0m 94ms/step - accuracy: 0.7535 - loss: 2.1160 - val_accuracy: 0.5079 - val_loss: 2.6856\n",
      "Epoch 7/100\n",
      "\u001b[1m8/8\u001b[0m \u001b[32m━━━━━━━━━━━━━━━━━━━━\u001b[0m\u001b[37m\u001b[0m \u001b[1m1s\u001b[0m 95ms/step - accuracy: 0.7927 - loss: 2.0115 - val_accuracy: 0.6270 - val_loss: 2.3178\n",
      "Epoch 8/100\n",
      "\u001b[1m8/8\u001b[0m \u001b[32m━━━━━━━━━━━━━━━━━━━━\u001b[0m\u001b[37m\u001b[0m \u001b[1m1s\u001b[0m 96ms/step - accuracy: 0.8818 - loss: 1.7753 - val_accuracy: 0.6746 - val_loss: 2.2585\n",
      "Epoch 9/100\n",
      "\u001b[1m8/8\u001b[0m \u001b[32m━━━━━━━━━━━━━━━━━━━━\u001b[0m\u001b[37m\u001b[0m \u001b[1m1s\u001b[0m 83ms/step - accuracy: 0.8782 - loss: 1.7094 - val_accuracy: 0.6429 - val_loss: 2.1462\n",
      "Epoch 10/100\n",
      "\u001b[1m8/8\u001b[0m \u001b[32m━━━━━━━━━━━━━━━━━━━━\u001b[0m\u001b[37m\u001b[0m \u001b[1m1s\u001b[0m 83ms/step - accuracy: 0.9470 - loss: 1.5381 - val_accuracy: 0.6111 - val_loss: 2.1138\n",
      "Epoch 11/100\n",
      "\u001b[1m8/8\u001b[0m \u001b[32m━━━━━━━━━━━━━━━━━━━━\u001b[0m\u001b[37m\u001b[0m \u001b[1m1s\u001b[0m 83ms/step - accuracy: 0.9707 - loss: 1.4570 - val_accuracy: 0.6111 - val_loss: 2.1015\n",
      "Epoch 12/100\n",
      "\u001b[1m8/8\u001b[0m \u001b[32m━━━━━━━━━━━━━━━━━━━━\u001b[0m\u001b[37m\u001b[0m \u001b[1m1s\u001b[0m 84ms/step - accuracy: 0.9650 - loss: 1.3895 - val_accuracy: 0.6111 - val_loss: 2.0316\n",
      "Epoch 13/100\n",
      "\u001b[1m8/8\u001b[0m \u001b[32m━━━━━━━━━━━━━━━━━━━━\u001b[0m\u001b[37m\u001b[0m \u001b[1m1s\u001b[0m 84ms/step - accuracy: 0.9728 - loss: 1.3417 - val_accuracy: 0.6190 - val_loss: 1.9658\n",
      "Epoch 14/100\n",
      "\u001b[1m8/8\u001b[0m \u001b[32m━━━━━━━━━━━━━━━━━━━━\u001b[0m\u001b[37m\u001b[0m \u001b[1m1s\u001b[0m 84ms/step - accuracy: 0.9891 - loss: 1.2763 - val_accuracy: 0.6190 - val_loss: 1.9622\n",
      "Epoch 15/100\n",
      "\u001b[1m8/8\u001b[0m \u001b[32m━━━━━━━━━━━━━━━━━━━━\u001b[0m\u001b[37m\u001b[0m \u001b[1m1s\u001b[0m 84ms/step - accuracy: 0.9892 - loss: 1.2220 - val_accuracy: 0.6508 - val_loss: 1.9161\n",
      "Epoch 16/100\n",
      "\u001b[1m8/8\u001b[0m \u001b[32m━━━━━━━━━━━━━━━━━━━━\u001b[0m\u001b[37m\u001b[0m \u001b[1m1s\u001b[0m 84ms/step - accuracy: 0.9921 - loss: 1.2068 - val_accuracy: 0.6587 - val_loss: 1.9008\n"
     ]
    }
   ],
   "source": [
    "from tensorflow.keras.models import Sequential\n",
    "from tensorflow.keras.layers import Conv2D, MaxPooling2D, Flatten, Dense, Dropout, BatchNormalization, Input\n",
    "from tensorflow.keras.optimizers import Adam\n",
    "from tensorflow.keras.callbacks import EarlyStopping\n",
    "from tensorflow.keras.regularizers import l2\n",
    "import numpy as np\n",
    "\n",
    "# 42=66.7%\n",
    "\n",
    "early_stopping = EarlyStopping(patience=8, restore_best_weights=True, monitor='val_accuracy')\n",
    "\n",
    "# Assume X_train, X_test, y_train, y_test are already defined\n",
    "# Convert lists to numpy arrays\n",
    "X_train = np.array(X_train)\n",
    "X_test = np.array(X_test)\n",
    "y_train = np.array(y_train)\n",
    "y_test = np.array(y_test)\n",
    "\n",
    "# Add a channel dimension\n",
    "X_train = X_train[..., np.newaxis]  # Shape: (num_samples, 13, max_length, 1)\n",
    "X_test = X_test[..., np.newaxis]    # Shape: (num_samples, 13, max_length, 1)\n",
    "\n",
    "input_shape = (13, max_length, 1)  # Ensure max_length is appropriate for your data\n",
    "\n",
    "model = Sequential([\n",
    "    Input(shape=input_shape),\n",
    "    Conv2D(32, (3, 3), activation='relu', kernel_regularizer=l2(0.005)),\n",
    "    BatchNormalization(),\n",
    "    MaxPooling2D((2, 2)),\n",
    "    Dropout(0.3),\n",
    "\n",
    "    Conv2D(64, (3, 3), activation='relu', kernel_regularizer=l2(0.005)),\n",
    "    BatchNormalization(),\n",
    "    MaxPooling2D((2, 2)),\n",
    "    Dropout(0.4),\n",
    "\n",
    "    Flatten(),\n",
    "    Dense(128, activation='relu', kernel_regularizer=l2(0.005)),\n",
    "    BatchNormalization(),\n",
    "    Dropout(0.5),\n",
    "\n",
    "    Dense(3, activation='softmax')\n",
    "])\n",
    "\n",
    "model.compile(optimizer=Adam(learning_rate=0.0005), loss='sparse_categorical_crossentropy', metrics=['accuracy'])\n",
    "\n",
    "# Train the model\n",
    "history = model.fit(X_train, y_train, epochs=100, validation_data=(X_test, y_test), callbacks=[early_stopping])"
   ]
  }
 ],
 "metadata": {
  "kaggle": {
   "accelerator": "nvidiaTeslaT4",
   "dataSources": [
    {
     "datasetId": 5362787,
     "sourceId": 8917155,
     "sourceType": "datasetVersion"
    }
   ],
   "dockerImageVersionId": 30732,
   "isGpuEnabled": true,
   "isInternetEnabled": true,
   "language": "python",
   "sourceType": "notebook"
  },
  "kernelspec": {
   "display_name": "Python 3",
   "language": "python",
   "name": "python3"
  },
  "language_info": {
   "codemirror_mode": {
    "name": "ipython",
    "version": 3
   },
   "file_extension": ".py",
   "mimetype": "text/x-python",
   "name": "python",
   "nbconvert_exporter": "python",
   "pygments_lexer": "ipython3",
   "version": "3.10.13"
  },
  "papermill": {
   "default_parameters": {},
   "duration": 807.425927,
   "end_time": "2024-07-10T14:33:00.059529",
   "environment_variables": {},
   "exception": null,
   "input_path": "__notebook__.ipynb",
   "output_path": "__notebook__.ipynb",
   "parameters": {},
   "start_time": "2024-07-10T14:19:32.633602",
   "version": "2.5.0"
  }
 },
 "nbformat": 4,
 "nbformat_minor": 5
}
